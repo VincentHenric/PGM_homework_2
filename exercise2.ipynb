{
 "cells": [
  {
   "cell_type": "code",
   "execution_count": 1,
   "metadata": {},
   "outputs": [],
   "source": [
    "import numpy as np\n",
    "import matplotlib.pyplot as plt\n",
    "from scipy.spatial.distance import euclidean, pdist, squareform\n",
    "import pprint"
   ]
  },
  {
   "cell_type": "code",
   "execution_count": 82,
   "metadata": {},
   "outputs": [],
   "source": [
    "class undirected_chain():\n",
    "    def __init__(self, psi, psi_2):\n",
    "        \"\"\"\n",
    "        :param psi: list of array. The 1D array at position j corresponds to all possible values of log(psi_j),\n",
    "        in the form of a vector\n",
    "        :param psi_2: list of array. The 2D array at position j corresponds to all possible values of log(psi_j,j+1),\n",
    "        in the form of a matrix\n",
    "        \n",
    "        Everything is saved on the log form\n",
    "        \"\"\"\n",
    "        self.n = len(psi) # length of the chain\n",
    "        self.psi = [np.log(v) for v in psi]\n",
    "        self.psi_2 = [np.log(v) for v in psi_2]\n",
    "        \n",
    "        self.max_psi = [np.max(v) for v in self.psi]\n",
    "        self.max_psi_2 = [np.max(v, axis=0) for v in self.psi_2]\n",
    "        self.max_psi_2_rev = [np.max(v, axis=1) for v in self.psi_2] # used for beta\n",
    "        \n",
    "    def sum_product(self):\n",
    "        \"\"\"\n",
    "        computes the forward and backward messages\n",
    "        \"\"\"\n",
    "        # edge messages (alpha(0) and beta(n-1))\n",
    "        self.alpha=[np.zeros(len(self.psi[0]))]\n",
    "        self.beta=[np.zeros(len(self.psi[-1]))]\n",
    "        \n",
    "        # forward pass\n",
    "        for j in range(self.n-1):\n",
    "            term1 = self.max_psi[j] + self.max_psi_2[j] + np.max(self.alpha[-1])\n",
    "            term2 = np.exp((self.psi[j]-self.max_psi[j])[:,None] + self.psi_2[j]-self.max_psi_2[j][None,:] + (self.alpha[-1]-np.max(self.alpha[-1]))[:,None])\n",
    "            term = term1 + np.log(np.sum(term2, axis=0))\n",
    "            self.alpha.append(term)\n",
    "            \n",
    "        # backward pass\n",
    "        for j in range(self.n-2,-1,-1):\n",
    "            term1 = self.max_psi[j+1] + self.max_psi_2_rev[j] + np.max(self.beta[-1])\n",
    "            term2 = np.exp(self.psi[j+1]-self.max_psi[j+1] + self.psi_2[j]-self.max_psi_2_rev[j][:,None] + self.beta[-1]-np.max(self.beta[-1]))\n",
    "            term = term1 + np.log(np.sum(term2, axis=1))\n",
    "            self.beta.append(term)\n",
    "            \n",
    "    def normalize(self):\n",
    "        \"\"\"\n",
    "        normalized the messages\n",
    "        (unused)\n",
    "        \"\"\"\n",
    "        self.alpha = [self.normalize_msg(alpha) for alpha in self.alpha]\n",
    "        self.beta = [self.normalize_msg(beta) for beta in self.beta]\n",
    "        \n",
    "    def normalize_msg(self, msg):\n",
    "        \"\"\"\n",
    "        normalized the messages\n",
    "        (unused)\n",
    "        \"\"\"\n",
    "        max_msg = np.max(msg)\n",
    "        \n",
    "        term1 = msg - max_msg\n",
    "        term2 = np.exp(msg-max_msg)\n",
    "        \n",
    "        term = term1 - np.log(np.sum(term2))\n",
    "        return term    \n",
    "            \n",
    "    def get_Z(self, j=-1, normalize=False):\n",
    "        \"\"\"\n",
    "        computes Z directly\n",
    "        :param j: node at which to compute Z\n",
    "        :param normalize: whether to normalize messages\n",
    "        \"\"\"\n",
    "        if not (self.alpha and self.beta):\n",
    "            self.sum_product()\n",
    "        if normalize:\n",
    "            self.normalize()\n",
    "        j = j%self.n\n",
    "        Z = np.sum(np.exp(self.alpha[j] + self.psi[j] + self.beta[self.n-1-j]))\n",
    "        return Z\n",
    "    \n",
    "    def get_log_Z(self, j=-1, normalize=False):\n",
    "        \"\"\"\n",
    "        computes log(Z)\n",
    "        :param j: node at which to compute Z\n",
    "        :param normalize: whether to normalize messages\n",
    "        \"\"\"\n",
    "        if not (self.alpha and self.beta):\n",
    "            self.sum_product()\n",
    "        if normalize:\n",
    "            self.normalize()\n",
    "        j = j%self.n\n",
    "        term1 = np.max(self.alpha[j]) + self.max_psi[j] + np.max(self.beta[self.n-1-j])\n",
    "        term2 = np.exp(self.alpha[j]-np.max(self.alpha[j]) + self.psi[j]-self.max_psi[j] + self.beta[self.n-1-j]-np.max(self.beta[self.n-1-j]))\n",
    "        term = term1 + np.log(np.sum(term2))\n",
    "        self.Z = term\n",
    "        return self.Z\n",
    "            \n",
    "    def get_proba(self, j):\n",
    "        \"\"\"\n",
    "        computes the probas at node j\n",
    "        :param j: the node position\n",
    "        \"\"\"\n",
    "        if not (self.alpha and self.beta):\n",
    "            self.sum_product()\n",
    "        if not self.Z:\n",
    "            self.get_log_Z()\n",
    "        j = j%self.n\n",
    "        return np.exp(self.alpha[j] + self.psi[j] + self.beta[self.n-1-j] - self.Z)"
   ]
  },
  {
   "cell_type": "code",
   "execution_count": 83,
   "metadata": {},
   "outputs": [
    {
     "name": "stdout",
     "output_type": "stream",
     "text": [
      "True\n",
      "True\n",
      "True\n",
      "True\n",
      "True\n",
      "True\n",
      "True\n",
      "True\n"
     ]
    }
   ],
   "source": [
    "# unit test\n",
    "\n",
    "# initialize a small case\n",
    "psi = [np.array([0.4, 0.6]), np.array([0.3, 0.7])]\n",
    "psi_2 = [np.array([[0.1, 0.2],[0.3, 0.4]])]\n",
    "ch = undirected_chain(psi, psi_2)\n",
    "ch.sum_product()\n",
    "\n",
    "# test on sum-product algorithm\n",
    "print(np.allclose(ch.alpha[1], np.log(psi_2[0].T @ psi[0])))\n",
    "print(np.allclose(ch.beta[1], np.log(psi_2[0] @ psi[1])))\n",
    "\n",
    "# test on Z calculation\n",
    "Z0 = (np.exp(ch.alpha[0])*np.exp(ch.beta[-1])) @ psi[0]\n",
    "Z1 = (np.exp(ch.alpha[-1])*np.exp(ch.beta[0])) @ psi[1]\n",
    "\n",
    "print(np.allclose(Z0, Z1))\n",
    "print(np.allclose(Z0, ch.get_Z(0)))\n",
    "print(np.allclose(Z0, ch.get_Z(-1)))\n",
    "\n",
    "print(np.allclose(np.log(Z0), np.log(Z0)))\n",
    "print(np.allclose(np.log(Z0), ch.get_log_Z(0)))\n",
    "print(np.allclose(np.log(Z0), ch.get_log_Z(-1)))"
   ]
  },
  {
   "cell_type": "code",
   "execution_count": 84,
   "metadata": {},
   "outputs": [
    {
     "name": "stdout",
     "output_type": "stream",
     "text": [
      "True\n",
      "True\n",
      "True\n",
      "True\n",
      "True\n",
      "True\n",
      "True\n",
      "True\n"
     ]
    }
   ],
   "source": [
    "# unit test\n",
    "\n",
    "# initialize a small case (different number of values for nodes)\n",
    "psi = [np.array([0.1, 0.4, 0.5]), np.array([0.3, 0.7])]\n",
    "psi_2 = [np.array([[0.1, 0.2],[0.3, 0.4],[0.5, 0.6]])]\n",
    "ch = undirected_chain(psi, psi_2)\n",
    "ch.sum_product()\n",
    "\n",
    "# test on sum-product algorithm\n",
    "print(np.allclose(ch.alpha[1], np.log(psi_2[0].T @ psi[0])))\n",
    "print(np.allclose(ch.beta[1], np.log(psi_2[0] @ psi[1])))\n",
    "\n",
    "# test on Z calculation\n",
    "Z0 = (np.exp(ch.alpha[0])*np.exp(ch.beta[-1])) @ psi[0]\n",
    "Z1 = (np.exp(ch.alpha[-1])*np.exp(ch.beta[0])) @ psi[1]\n",
    "\n",
    "print(np.allclose(Z0, Z1))\n",
    "print(np.allclose(Z0, ch.get_Z(0)))\n",
    "print(np.allclose(Z0, ch.get_Z(-1)))\n",
    "\n",
    "print(np.allclose(np.log(Z0), np.log(Z0)))\n",
    "print(np.allclose(np.log(Z0), ch.get_log_Z(0)))\n",
    "print(np.allclose(np.log(Z0), ch.get_log_Z(-1)))"
   ]
  },
  {
   "cell_type": "markdown",
   "metadata": {},
   "source": [
    "### Question 2"
   ]
  },
  {
   "cell_type": "code",
   "execution_count": 117,
   "metadata": {},
   "outputs": [],
   "source": [
    "def ising_junction(beta, w=10, h=100):\n",
    "    \"\"\"\n",
    "    For the Ising grid, returns the psi_j and psi_ij of the junction tree, in a suitable format to feed \n",
    "    the class undirected_chain and run the sum-product algorithm\n",
    "    we assume alpha=0\n",
    "    \n",
    "    for psi_j, we have 2^w distinct values for (z_ij)j (in the form of a vector)\n",
    "    for psi_ij, we have 2^w x 2^w distinct values for (z_ij)j x (z_ij)j (in the form of a matrix)\n",
    "    \n",
    "    the binary encoding of the index corresponds to the values of the z_ij of the row i\n",
    "    \"\"\"\n",
    "    \n",
    "    def nb_of_common_same_level(x):\n",
    "        return (1-np.abs(np.diff(x, axis=1))).sum(axis=1)\n",
    "    \n",
    "    def nb_of_common_two_level(k1,k2):\n",
    "        b1 = np.array([int(i) for i in list('{0:0b}'.format(k1).zfill(w))])\n",
    "        b2 = np.array([int(i) for i in list('{0:0b}'.format(k2).zfill(w))])\n",
    "        return nb_common_bits(b1,b2)\n",
    "    \n",
    "    def nb_common_bits(b1,b2):\n",
    "        return (b1==b2).sum()\n",
    "    \n",
    "    def unpackbits(x,num_bits):\n",
    "        xshape = list(x.shape)\n",
    "        x = x.reshape([-1,1])\n",
    "        to_and = 2**np.arange(num_bits).reshape([1,num_bits])\n",
    "        return np.flip((x & to_and).astype(bool).astype(int).reshape(xshape + [num_bits]), axis=1)\n",
    "        \n",
    "    x = np.arange(2**w, dtype=np.uint32)\n",
    "    y = unpackbits(x,w) # takes the binary encoding of each integer up to 2^w\n",
    "    \n",
    "    # nb of common values between two consecutive layers\n",
    "    # calculates the number of common bits for two encodings and return the corresponding distance matrix\n",
    "    dists = pdist(y, nb_common_bits) # for now, diagonal elements are 0\n",
    "    different_layer = w * np.identity(2**w) + squareform(dists) # on the diagonal, we have w common bits (the whole row)\n",
    "    \n",
    "    # nb of equal consecutive values on the same layer\n",
    "    same_layer = nb_of_common_same_level(y)\n",
    "    \n",
    "    # finally, compute psi and psi_2\n",
    "    psi = [np.exp(beta*same_layer) for i in range(h)]\n",
    "    psi_2 = [np.exp(beta*different_layer) for i in range(h-1)]\n",
    "    \n",
    "    return psi, psi_2"
   ]
  },
  {
   "cell_type": "code",
   "execution_count": 123,
   "metadata": {},
   "outputs": [
    {
     "name": "stdout",
     "output_type": "stream",
     "text": [
      "6.238324625039507\n",
      "CPU times: user 2.55 ms, sys: 0 ns, total: 2.55 ms\n",
      "Wall time: 2.17 ms\n"
     ]
    }
   ],
   "source": [
    "%%time\n",
    "# computation for a small grid\n",
    "psi, psi_2 = ising_junction(0, w=3, h=3)\n",
    "ch = undirected_chain(psi, psi_2)\n",
    "ch.sum_product()\n",
    "Z = ch.get_log_Z(-1)\n",
    "print(Z)"
   ]
  },
  {
   "cell_type": "code",
   "execution_count": 124,
   "metadata": {},
   "outputs": [
    {
     "name": "stdout",
     "output_type": "stream",
     "text": [
      "693.1471805599463\n",
      "CPU times: user 7.43 s, sys: 1.37 s, total: 8.8 s\n",
      "Wall time: 5.54 s\n"
     ]
    }
   ],
   "source": [
    "%%time\n",
    "# computation for the grid of question 2\n",
    "psi, psi_2 = ising_junction(0, w=10, h=100)\n",
    "ch = undirected_chain(psi, psi_2)\n",
    "ch.sum_product()\n",
    "Z = ch.get_log_Z(-1)\n",
    "print(Z)\n",
    "# pprint.pprint(ch.alpha)"
   ]
  },
  {
   "cell_type": "code",
   "execution_count": null,
   "metadata": {},
   "outputs": [],
   "source": [
    "# free RAM\n",
    "ch = None"
   ]
  },
  {
   "cell_type": "code",
   "execution_count": 451,
   "metadata": {},
   "outputs": [
    {
     "name": "stderr",
     "output_type": "stream",
     "text": [
      "/home/henric/anaconda3/lib/python3.7/site-packages/ipykernel_launcher.py:7: RuntimeWarning: overflow encountered in exp\n",
      "  import sys\n",
      "/home/henric/anaconda3/lib/python3.7/site-packages/ipykernel_launcher.py:10: RuntimeWarning: overflow encountered in multiply\n",
      "  # Remove the CWD from sys.path while we load stuff.\n"
     ]
    }
   ],
   "source": [
    "# bounds on Z\n",
    "h=100\n",
    "w=10\n",
    "beta = np.concatenate((np.sort(-1*np.logspace(-3,2,6)), [0], np.logspace(-3,0,4)))\n",
    "\n",
    "# lower bound\n",
    "lower = np.exp((4*beta*(h-2)*(w-2)+3*beta*(2*(h-2)+2*(w-2))+2*beta*4)/2)\n",
    "\n",
    "# upper bound\n",
    "upper = 2**(h*w) * lower"
   ]
  },
  {
   "cell_type": "code",
   "execution_count": 484,
   "metadata": {},
   "outputs": [
    {
     "name": "stdout",
     "output_type": "stream",
     "text": [
      "Beta=-100.0\n"
     ]
    },
    {
     "name": "stderr",
     "output_type": "stream",
     "text": [
      "/home/henric/anaconda3/lib/python3.7/site-packages/ipykernel_launcher.py:8: RuntimeWarning: divide by zero encountered in log\n",
      "  \n",
      "/home/henric/anaconda3/lib/python3.7/site-packages/ipykernel_launcher.py:9: RuntimeWarning: divide by zero encountered in log\n",
      "  if __name__ == '__main__':\n"
     ]
    },
    {
     "name": "stdout",
     "output_type": "stream",
     "text": [
      "Found log(Z)=0.6931471805599453\n",
      "Beta=-10.0\n",
      "Found log(Z)=0.6931471888251494\n",
      "Beta=-1.0\n",
      "Found log(Z)=44.54243324777186\n",
      "Beta=-0.1\n",
      "Found log(Z)=601.0142732271387\n",
      "Beta=-0.01\n",
      "Found log(Z)=683.720806018391\n",
      "Beta=-0.001\n",
      "Found log(Z)=692.2024168099916\n",
      "Beta=0.0\n",
      "Found log(Z)=693.1471805599463\n",
      "Beta=0.001\n",
      "Found log(Z)=694.0924168099921\n",
      "Beta=0.01\n",
      "Found log(Z)=702.6208060183924\n",
      "Beta=0.1\n",
      "Found log(Z)=790.0142732271373\n",
      "Beta=1.0\n",
      "Found log(Z)=1934.542433247772\n"
     ]
    }
   ],
   "source": [
    "betas = np.concatenate((np.sort(-1*np.logspace(-3,2,6)), [0], np.logspace(-3,0,4)))\n",
    "Zs = []\n",
    "for beta in betas:\n",
    "    print('Beta={}'.format(beta))\n",
    "    psi, psi_2 = ising_junction(beta, w=10, h=100)\n",
    "    ch = undirected_chain(psi, psi_2)\n",
    "    ch.sum_product()\n",
    "    Z = ch.get_log_Z(-1)\n",
    "    Zs.append(Z)\n",
    "    print('Found log(Z)={}'.format(Z))\n",
    "Zs=np.array(Zs)"
   ]
  },
  {
   "cell_type": "code",
   "execution_count": 512,
   "metadata": {},
   "outputs": [
    {
     "data": {
      "text/plain": [
       "[<matplotlib.lines.Line2D at 0x7f9bb591d790>]"
      ]
     },
     "execution_count": 512,
     "metadata": {},
     "output_type": "execute_result"
    },
    {
     "data": {
      "image/png": "[encoded data removed]",
      "text/plain": [
       "<Figure size 432x288 with 1 Axes>"
      ]
     },
     "metadata": {
      "needs_background": "light"
     },
     "output_type": "display_data"
    }
   ],
   "source": [
    "plt.plot(betas, Zs)\n",
    "# plt.ylim(0,5)"
   ]
  },
  {
   "cell_type": "code",
   "execution_count": 511,
   "metadata": {},
   "outputs": [
    {
     "data": {
      "image/png": "[encoded data removed]",
      "text/plain": [
       "<Figure size 720x360 with 2 Axes>"
      ]
     },
     "metadata": {
      "needs_background": "light"
     },
     "output_type": "display_data"
    }
   ],
   "source": [
    "neg_betas_idx = np.where(betas<0)[0]\n",
    "neg_betas = betas[neg_betas_idx]\n",
    "neg_Zs = Zs[neg_betas_idx]\n",
    "\n",
    "pos_betas_idx = np.where(betas>0)[0]\n",
    "pos_betas = betas[pos_betas_idx]\n",
    "pos_Zs = Zs[pos_betas_idx]\n",
    "\n",
    "fig, ax = plt.subplots(1,2, figsize=(10,5))\n",
    "ax[0].plot(neg_betas, neg_Zs)\n",
    "ax[1].plot(pos_betas, pos_Zs)\n",
    "ax[0].set_xscale('symlog')\n",
    "ax[1].set_xscale('log')"
   ]
  },
  {
   "cell_type": "code",
   "execution_count": 489,
   "metadata": {},
   "outputs": [
    {
     "data": {
      "text/plain": [
       "693.1471805599452"
      ]
     },
     "execution_count": 489,
     "metadata": {},
     "output_type": "execute_result"
    }
   ],
   "source": [
    "100*10*np.log(2)\n",
    "np.log(2)"
   ]
  },
  {
   "cell_type": "markdown",
   "metadata": {},
   "source": [
    "### Question 3"
   ]
  },
  {
   "cell_type": "code",
   "execution_count": 98,
   "metadata": {},
   "outputs": [],
   "source": [
    "class Ising():\n",
    "    def __init__(self, h, w, alpha, beta):\n",
    "        \"\"\"\n",
    "        :param psi: list of array. The 1D array at position j corresponds to all possible values of psi_j\n",
    "        :param psi_2: list of array. The 2D array at position j corresponds to all possible values of psi_j,j+1\n",
    "        \"\"\"\n",
    "        self.h = h\n",
    "        self.w = w\n",
    "        \n",
    "        self.edges = []\n",
    "        for i in range(h-1):\n",
    "            for j in range(w):\n",
    "                self.edges.append(((i,j),(i+1,j)))\n",
    "        for i in range(h):\n",
    "            for j in range(w-1):\n",
    "                self.edges.append(((i,j),(i,j+1)))\n",
    "        self.edges += [(v2,v1) for (v1,v2) in self.edges] # take reverse order too\n",
    "        \n",
    "        self.nb_edges = len(self.edges)\n",
    "                \n",
    "        self.psi = np.tile(alpha * np.arange(2), (h,w,1)) # work on the log, again\n",
    "        self.psi_2 = {(v1,v2): beta*np.identity(2) for (v1,v2) in self.edges} # on the log\n",
    "        \n",
    "        self.max_psi = np.max(self.psi, axis=-1)\n",
    "        self.max_psi_2 = {k:np.max(v, axis=1) for k,v in self.psi_2.items()}\n",
    "        \n",
    "        self.alpha = None\n",
    "        self.Z = None\n",
    "        \n",
    "    def LBP(self, n, kind='naive', normalize=True, verbose=False):\n",
    "        # initialization\n",
    "        if not self.alpha:\n",
    "            self.init_alpha()\n",
    "        \n",
    "        # naive way\n",
    "        if kind=='naive':\n",
    "            for k in range(n):\n",
    "                e = self.edges[np.random.randint(self.nb_edges)]\n",
    "                self.update_msg(e, normalize=normalize, verbose=verbose)\n",
    "        \n",
    "        elif kind=='tree':\n",
    "            for k in range(n):\n",
    "                # extract a tree from the graph\n",
    "                tree = self.extract_tree()\n",
    "                for e in tree:\n",
    "                    self.update_msg(e, normalize=normalize, verbose=verbose)\n",
    "                for (v1,v2) in reversed(tree):\n",
    "                    self.update_msg((v2,v1), normalize=normalize, verbose=verbose)\n",
    "        else:\n",
    "            raise(ValueError)\n",
    "            \n",
    "    def init_alpha(self, kind='naive'):\n",
    "        print('Initialize alpha')\n",
    "        \n",
    "        if kind == 'naive':\n",
    "            self.alpha={(v1,v2):np.zeros(2) for (v1,v2) in self.edges}\n",
    "        elif kind == 'random':\n",
    "            self.alpha={(v1,v2):np.random.normal(size=2) for (v1,v2) in self.edges}\n",
    "        else:\n",
    "            raise(ValueError)\n",
    "            \n",
    "#     def extract_tree(self):\n",
    "#         e = self.edges[np.random.randint(self.nb_edges)]\n",
    "#         (v1,v2) = e\n",
    "#         taken = [(v1,v2), (v2,v1)] # we also forbid to take the contrary edge\n",
    "        \n",
    "#         while True:\n",
    "#             children = list(set(self.get_children(e)).difference(set(taken)))\n",
    "#             if children == []:\n",
    "#                 break\n",
    "#             child = children[np.random.randint(len(children))]\n",
    "#             (s1,s2) = child\n",
    "#             taken.append(child)\n",
    "#             taken.append((s2,s1))\n",
    "#         return taken\n",
    "    \n",
    "    def extract_tree(self):\n",
    "        (i,j) = np.random.randint(self.h), np.random.randint(self.w)\n",
    "        v = (i,j)\n",
    "        taken = [v]\n",
    "        \n",
    "        while True:\n",
    "            children = self.get_outcoming_edges(v)\n",
    "            children_vertices = [child[1] for child in children] # take all vertices\n",
    "            children_vertices = list(set(children_vertices).difference(set(taken)))\n",
    "            if children_vertices == []:\n",
    "                break\n",
    "            child_vertex = children_vertices[np.random.randint(len(children_vertices))]\n",
    "            taken.append(child_vertex)\n",
    "            v = child_vertex\n",
    "        return [(taken[i],taken[i+1]) for i in range(len(taken)-1)]\n",
    "        \n",
    "    def get_children(self, e):\n",
    "        (v1,v2) = e\n",
    "        return [(s1,s2) for (s1,s2) in self.edges if s1==v2 and s2!=v1]\n",
    "    \n",
    "    def get_parents(self, e):\n",
    "        (v1,v2) = e\n",
    "        return [(s1,s2) for (s1,s2) in self.edges if s2==v1 and s1!=v2]\n",
    "    \n",
    "    def get_incoming_edges(self, v):\n",
    "        return [(s1,s2) for (s1,s2) in self.edges if s2==v]\n",
    "    \n",
    "    def get_outcoming_edges(self, v):\n",
    "        return [(s1,s2) for (s1,s2) in self.edges if s1==v]\n",
    "    \n",
    "    def update_msg(self, e1, normalize=True, verbose=False):\n",
    "        (v1,v2) = e1\n",
    "        neighbors = self.get_parents(e1)\n",
    "        max_msgs = np.zeros(2)\n",
    "        for e2 in neighbors:\n",
    "            max_msgs += np.max(self.alpha[e2])\n",
    "        term1 = self.max_psi[v1] + self.max_psi_2[(v1,v2)] + max_msgs\n",
    "\n",
    "        msgs = np.zeros(2)\n",
    "        for e2 in neighbors:\n",
    "            msgs += self.alpha[e2]\n",
    "        term2 = np.exp((self.psi[v1]-self.max_psi[v1])[:,None] + self.psi_2[(v1,v2)]-self.max_psi_2[(v1,v2)][None,:] + (msgs-max_msgs)[:,None])\n",
    "        \n",
    "#         term2 = np.exp((self.psi[j]-self.max_psi[j])[:,None] + self.psi_2[j]-self.max_psi_2[j][None,:] + (self.alpha[-1]-np.max(self.alpha[-1]))[:,None])\n",
    "\n",
    "        if verbose:\n",
    "            print('msg : {}'.format(msgs))\n",
    "#             print(term1)\n",
    "#             print(term2)\n",
    "        term = term1 + np.log(np.sum(term2, axis=0))\n",
    "        if verbose:\n",
    "            print('unormalized : {}'.format(term))\n",
    "        if normalize:\n",
    "            term = self.normalize_msg(term) # we normalize msgs\n",
    "        if verbose:\n",
    "            print('normalized : {}'.format(term))\n",
    "        \n",
    "        self.alpha[(v1,v2)] = term \n",
    "    \n",
    "    def normalize_msg(self, msg):\n",
    "        max_msg = np.max(msg)\n",
    "        \n",
    "        term1 = msg - max_msg\n",
    "        term2 = np.exp(msg-max_msg)\n",
    "        \n",
    "        term = term1 - np.log(np.sum(term2))\n",
    "        return term      \n",
    "                      \n",
    "    def get_Z(self, v=(0,0)):\n",
    "        if not self.alpha:\n",
    "            self.LBP()\n",
    "        \n",
    "        (i,j) = v\n",
    "        i = i%self.h\n",
    "        j = j%self.w\n",
    "        v = (i,j)\n",
    "        \n",
    "        neighbors = self.get_incoming_edges(v)\n",
    "        msgs = 0\n",
    "        for e in neighbors:\n",
    "            msgs += self.alpha[e]\n",
    "        \n",
    "        Z = np.sum(np.exp(self.psi[(i,j)] + msgs))\n",
    "        return Z\n",
    "    \n",
    "    def get_log_Z(self, v=(0,0)):\n",
    "        if not self.alpha:\n",
    "            self.LBP()\n",
    "            \n",
    "        (i,j) = v\n",
    "        i = i%self.h\n",
    "        j = j%self.w\n",
    "        v = (i,j)\n",
    "        \n",
    "        neighbors = self.get_incoming_edges(v)\n",
    "        max_msgs = 0\n",
    "        for e in neighbors:\n",
    "            max_msgs += np.max(self.alpha[e])\n",
    "        term1 = self.max_psi[i,j] + max_msgs\n",
    "\n",
    "        msgs = np.zeros(2)\n",
    "        for e in neighbors:\n",
    "            msgs += self.alpha[e]\n",
    "        term2 = np.exp((self.psi[i,j]-self.max_psi[i,j])[:,None] + (msgs-max_msgs)[:,None])\n",
    "        term = term1 + np.log(np.sum(term2))\n",
    "        self.Z = term\n",
    "        return term\n",
    "            \n",
    "    def get_proba(self, v=(0,0)):\n",
    "        if not self.alpha:\n",
    "            self.LBP(500)\n",
    "        \n",
    "        self.get_log_Z(v)\n",
    "            \n",
    "        (i,j) = v\n",
    "        i = i%self.h\n",
    "        j = j%self.w\n",
    "        v = (i,j)\n",
    "        \n",
    "        neighbors = self.get_incoming_edges(v)\n",
    "        msgs = np.zeros(2)\n",
    "        for e in neighbors:\n",
    "            msgs += self.alpha[e]\n",
    "        \n",
    "        probas = np.exp(self.psi[i,j] + msgs - self.Z)\n",
    "        return probas / np.sum(probas)\n",
    "    \n",
    "    def get_unnormed_proba(self, v=(0,0)):\n",
    "        if not self.alpha:\n",
    "            self.LBP()\n",
    "        \n",
    "        self.get_log_Z(v)\n",
    "            \n",
    "        (i,j) = v\n",
    "        i = i%self.h\n",
    "        j = j%self.w\n",
    "        v = (i,j)\n",
    "        \n",
    "        neighbors = self.get_incoming_edges(v)\n",
    "        msgs = np.zeros(2)\n",
    "        for e in neighbors:\n",
    "            msgs += self.alpha[e]\n",
    "        \n",
    "        probas = np.exp(self.psi[i,j] + msgs - self.Z)\n",
    "        return probas\n",
    "    \n",
    "    def get_couple_proba(self, v1, v2):\n",
    "        \"\"\"\n",
    "        returns the joint probabilities for a couple of adjacent vertices\n",
    "        \"\"\"\n",
    "        if not self.alpha:\n",
    "            self.LBP()\n",
    "        if not self.Z:\n",
    "            self.get_log_Z()\n",
    "        if (v1,v2) not in self.edges:\n",
    "            raise(ValueError)\n",
    "            \n",
    "        parents_1 = self.get_incoming_edges(v1)\n",
    "        parents_2 = self.get_incoming_edges(v2)\n",
    "        \n",
    "        sum_1 = np.zeros(2)\n",
    "        for e in parents_1:\n",
    "            sum_1 += self.alpha[e]\n",
    "        \n",
    "        sum_2 = np.zeros(2)\n",
    "        for e in parents_2:\n",
    "            sum_2 += self.alpha[e]\n",
    "            \n",
    "        probas = np.exp(self.psi[v1][None,:] + self.psi[v2][:,None] + self.psi_2[(v1,v2)] + sum_1[None,:] + sum_2[:,None] - self.Z)\n",
    "        \n",
    "        return probas / np.sum(probas)\n",
    "    \n",
    "    def get_probas(self, v_list):\n",
    "        edges = [(v1,v2) for i,v1 in enumerate(v_list[:-1]) for v2 in v_list[i+1:]]\n",
    "        if edges == []:\n",
    "            return get_proba\n",
    "        for e in edges:\n",
    "            if e not in self.edges:\n",
    "                raise(ValueError)\n",
    "        e = edges[0]\n",
    "        sum_psi = np.outer(self.psi[v_list[0]], self.psi[v_list[1]]) * self.psi_2[(v_list[0], v_list[1])]\n",
    "        old_v = v_list[1]\n",
    "        for v in v_list[2:]:\n",
    "            sum_psi = np.multiply.outer(sum_psi, self.psi[v]) * self.psi_2[(old_v, v)]\n",
    "            old_v = v\n",
    "\n",
    "    \n",
    "    def check_msg(self):\n",
    "        comp = {}\n",
    "        i = 0\n",
    "        for (v1,v2) in self.edges:\n",
    "            if v1<=v2:\n",
    "                comp[(v1,v2)] = self.alpha[(v1,v2)]-self.alpha[(v2,v1)]\n",
    "        pprint.pprint(comp)\n",
    "#         comp = np.zeros((int(self.nb_edges/2),2,2))\n",
    "#         i = 0\n",
    "#         for (v1,v2) in self.edges:\n",
    "#             if v1<=v2:\n",
    "#                 comp[i,0] = self.alpha[(v1,v2)]\n",
    "#                 comp[i,1] = self.alpha[(v2,v1)]\n",
    "#         print(comp[:,0]-comp[:,1])"
   ]
  },
  {
   "cell_type": "code",
   "execution_count": 33,
   "metadata": {},
   "outputs": [
    {
     "data": {
      "text/plain": [
       "True"
      ]
     },
     "execution_count": 33,
     "metadata": {},
     "output_type": "execute_result"
    }
   ],
   "source": [
    "# unit test\n",
    "ising = Ising(h=3,w=3,alpha=1,beta=-1)\n",
    "\n",
    "\n",
    "msg = np.exp(np.array([1,2]))\n",
    "log_msg = np.log(msg)\n",
    "\n",
    "norm_msg = msg/np.sum(msg)\n",
    "norm_log_msg = np.log(norm_msg)\n",
    "\n",
    "np.allclose(norm_log_msg, ising.normalize_msg(log_msg))"
   ]
  },
  {
   "cell_type": "code",
   "execution_count": 100,
   "metadata": {},
   "outputs": [
    {
     "name": "stdout",
     "output_type": "stream",
     "text": [
      "Initialize alpha\n"
     ]
    }
   ],
   "source": [
    "ising = Ising(h=100,w=10,alpha=0,beta=-1)\n",
    "ising.init_alpha('random')\n",
    "ising.LBP(500, 'tree', normalize=False, verbose=False)"
   ]
  },
  {
   "cell_type": "code",
   "execution_count": 112,
   "metadata": {},
   "outputs": [
    {
     "data": {
      "text/plain": [
       "array([-4.74284398e+80, -4.74284398e+80])"
      ]
     },
     "execution_count": 112,
     "metadata": {},
     "output_type": "execute_result"
    }
   ],
   "source": [
    "ising.get_log_Z((0,0))-ising.alpha[((1,0),(0,0))]-ising.alpha[((0,1),(0,0))]"
   ]
  },
  {
   "cell_type": "code",
   "execution_count": 116,
   "metadata": {},
   "outputs": [
    {
     "data": {
      "text/plain": [
       "array([1.26256296e+96, 1.26256296e+96])"
      ]
     },
     "execution_count": 116,
     "metadata": {},
     "output_type": "execute_result"
    }
   ],
   "source": [
    "ising.alpha[((1,0),(0,0))]"
   ]
  },
  {
   "cell_type": "code",
   "execution_count": 115,
   "metadata": {},
   "outputs": [
    {
     "data": {
      "text/plain": [
       "array([3.78768888e+96, 3.78768888e+96])"
      ]
     },
     "execution_count": 115,
     "metadata": {},
     "output_type": "execute_result"
    }
   ],
   "source": [
    "ising.alpha[((0,1),(0,0))]"
   ]
  },
  {
   "cell_type": "code",
   "execution_count": 111,
   "metadata": {},
   "outputs": [
    {
     "name": "stdout",
     "output_type": "stream",
     "text": [
      "[[nan nan]\n",
      " [nan nan]]\n"
     ]
    },
    {
     "name": "stderr",
     "output_type": "stream",
     "text": [
      "/home/henric/anaconda3/lib/python3.7/site-packages/ipykernel_launcher.py:245: RuntimeWarning: overflow encountered in exp\n",
      "/home/henric/anaconda3/lib/python3.7/site-packages/ipykernel_launcher.py:247: RuntimeWarning: invalid value encountered in true_divide\n"
     ]
    }
   ],
   "source": [
    "print(ising.get_couple_proba((0,1),(0,0)))"
   ]
  },
  {
   "cell_type": "code",
   "execution_count": 76,
   "metadata": {},
   "outputs": [
    {
     "data": {
      "text/plain": [
       "array([0.69314718, 0.69314718])"
      ]
     },
     "execution_count": 76,
     "metadata": {},
     "output_type": "execute_result"
    }
   ],
   "source": [
    "neighbors = ising.get_incoming_edges((0,0))\n",
    "msg = np.zeros(2)\n",
    "for e in neighbors:\n",
    "    msg += ising.alpha[e]\n",
    "    \n",
    "ising.get_log_Z((0,0)) - msg"
   ]
  },
  {
   "cell_type": "code",
   "execution_count": 77,
   "metadata": {},
   "outputs": [
    {
     "data": {
      "text/plain": [
       "array([0.69314718, 0.69314718])"
      ]
     },
     "execution_count": 77,
     "metadata": {},
     "output_type": "execute_result"
    }
   ],
   "source": [
    "neighbors = ising.get_incoming_edges((1,2))\n",
    "msg = np.zeros(2)\n",
    "for e in neighbors:\n",
    "    msg += ising.alpha[e]\n",
    "    \n",
    "ising.get_log_Z((1,2)) - msg"
   ]
  },
  {
   "cell_type": "code",
   "execution_count": 74,
   "metadata": {},
   "outputs": [],
   "source": [
    "ising = Ising(h=3,w=3,alpha=0,beta=0)"
   ]
  },
  {
   "cell_type": "code",
   "execution_count": 75,
   "metadata": {},
   "outputs": [
    {
     "name": "stdout",
     "output_type": "stream",
     "text": [
      "Initialize alpha\n"
     ]
    }
   ],
   "source": [
    "ising.init_alpha('random')\n",
    "ising.LBP(500, 'tree', normalize=True, verbose=False)"
   ]
  },
  {
   "cell_type": "code",
   "execution_count": 56,
   "metadata": {},
   "outputs": [
    {
     "name": "stdout",
     "output_type": "stream",
     "text": [
      "-0.6931471805599453\n",
      "[[0.25 0.25]\n",
      " [0.25 0.25]]\n",
      "[0.5 0.5]\n",
      "[0.5 0.5]\n",
      "[0.5 0.5]\n",
      "[0.5 0.5]\n",
      "\n",
      "[0.5 0.5]\n",
      "[0.5 0.5]\n",
      "[0.5 0.5]\n",
      "[0.5 0.5]\n"
     ]
    }
   ],
   "source": [
    "print(ising.get_log_Z())\n",
    "print(ising.get_couple_proba((0,1),(0,0)))\n",
    "\n",
    "print(ising.get_proba((0,0)))\n",
    "print(ising.get_proba((1,1)))\n",
    "print(ising.get_proba((2,1)))\n",
    "print(ising.get_proba((3,3)))\n",
    "print()\n",
    "print(ising.get_unnormed_proba((0,0)))\n",
    "print(ising.get_unnormed_proba((1,1)))\n",
    "print(ising.get_unnormed_proba((2,1)))\n",
    "print(ising.get_unnormed_proba((3,3)))"
   ]
  },
  {
   "cell_type": "code",
   "execution_count": 30,
   "metadata": {},
   "outputs": [
    {
     "name": "stdout",
     "output_type": "stream",
     "text": [
      "-0.6931471805599453\n",
      "-2.0794415416798357\n",
      "-1.3862943611198904\n",
      "-0.6931471805599453\n"
     ]
    }
   ],
   "source": [
    "print(ising.get_log_Z((0,0)))\n",
    "print(ising.get_log_Z((1,1)))\n",
    "print(ising.get_log_Z((1,2)))\n",
    "print(ising.get_log_Z((2,2)))"
   ]
  },
  {
   "cell_type": "code",
   "execution_count": null,
   "metadata": {},
   "outputs": [],
   "source": [
    "4-"
   ]
  },
  {
   "cell_type": "code",
   "execution_count": 32,
   "metadata": {},
   "outputs": [
    {
     "data": {
      "text/plain": [
       "-7.624618983919616"
      ]
     },
     "execution_count": 32,
     "metadata": {},
     "output_type": "execute_result"
    }
   ],
   "source": [
    "4* -0.69314718 + 2*-1.3862943611198904+-2.0794415416798357"
   ]
  },
  {
   "cell_type": "code",
   "execution_count": null,
   "metadata": {},
   "outputs": [],
   "source": [
    "6.238324625039508"
   ]
  },
  {
   "cell_type": "code",
   "execution_count": 20,
   "metadata": {},
   "outputs": [
    {
     "data": {
      "text/plain": [
       "{((0, 0), (1, 0)): array([-0.69314718, -0.69314718]),\n",
       " ((0, 1), (1, 1)): array([-0.69314718, -0.69314718]),\n",
       " ((0, 2), (1, 2)): array([-0.69314718, -0.69314718]),\n",
       " ((1, 0), (2, 0)): array([-0.69314718, -0.69314718]),\n",
       " ((1, 1), (2, 1)): array([-0.69314718, -0.69314718]),\n",
       " ((1, 2), (2, 2)): array([-0.69314718, -0.69314718]),\n",
       " ((0, 0), (0, 1)): array([-0.69314718, -0.69314718]),\n",
       " ((0, 1), (0, 2)): array([-0.69314718, -0.69314718]),\n",
       " ((1, 0), (1, 1)): array([-0.69314718, -0.69314718]),\n",
       " ((1, 1), (1, 2)): array([-0.69314718, -0.69314718]),\n",
       " ((2, 0), (2, 1)): array([-0.69314718, -0.69314718]),\n",
       " ((2, 1), (2, 2)): array([-0.69314718, -0.69314718]),\n",
       " ((1, 0), (0, 0)): array([-0.69314718, -0.69314718]),\n",
       " ((1, 1), (0, 1)): array([-0.69314718, -0.69314718]),\n",
       " ((1, 2), (0, 2)): array([-0.69314718, -0.69314718]),\n",
       " ((2, 0), (1, 0)): array([-0.69314718, -0.69314718]),\n",
       " ((2, 1), (1, 1)): array([-0.69314718, -0.69314718]),\n",
       " ((2, 2), (1, 2)): array([-0.69314718, -0.69314718]),\n",
       " ((0, 1), (0, 0)): array([-0.69314718, -0.69314718]),\n",
       " ((0, 2), (0, 1)): array([-0.69314718, -0.69314718]),\n",
       " ((1, 1), (1, 0)): array([-0.69314718, -0.69314718]),\n",
       " ((1, 2), (1, 1)): array([-0.69314718, -0.69314718]),\n",
       " ((2, 1), (2, 0)): array([-0.69314718, -0.69314718]),\n",
       " ((2, 2), (2, 1)): array([-0.69314718, -0.69314718])}"
      ]
     },
     "execution_count": 20,
     "metadata": {},
     "output_type": "execute_result"
    }
   ],
   "source": [
    "ising.alpha"
   ]
  },
  {
   "cell_type": "code",
   "execution_count": 24,
   "metadata": {},
   "outputs": [
    {
     "name": "stdout",
     "output_type": "stream",
     "text": [
      "Initialize alpha\n",
      "-0.6931471805599453\n",
      "6.238324625039508\n",
      "True\n"
     ]
    }
   ],
   "source": [
    "# unit test\n",
    "h,w = 3,3\n",
    "ising = Ising(h=h,w=w,alpha=0,beta=0)\n",
    "ising.LBP(500, 'tree')\n",
    "log_Z = ising.get_log_Z()\n",
    "print(log_Z)\n",
    "print(h*w*np.log(2))\n",
    "\n",
    "print((ising.get_couple_proba((0,1),(0,0)) == ising.get_couple_proba((0,0),(0,1)).T).all())"
   ]
  },
  {
   "cell_type": "code",
   "execution_count": 1054,
   "metadata": {},
   "outputs": [
    {
     "data": {
      "text/plain": [
       "6.238324625039507"
      ]
     },
     "execution_count": 1054,
     "metadata": {},
     "output_type": "execute_result"
    }
   ],
   "source": [
    "# test\n",
    "psi, psi_2 = ising_junction(beta=0, w=3, h=3)\n",
    "ch = undirected_chain(psi, psi_2)\n",
    "ch.sum_product()\n",
    "Z = ch.get_log_Z(-1)\n",
    "Z"
   ]
  },
  {
   "cell_type": "code",
   "execution_count": 1181,
   "metadata": {},
   "outputs": [
    {
     "name": "stdout",
     "output_type": "stream",
     "text": [
      "{((0, 0), (0, 1)): array([ 0.09617595, -0.12511825]),\n",
      " ((0, 0), (1, 0)): array([ 0.09617595, -0.12511825]),\n",
      " ((0, 1), (0, 2)): array([-0.09617595,  0.12511825]),\n",
      " ((0, 1), (1, 1)): array([-0.07957304,  0.09762336]),\n",
      " ((0, 2), (1, 2)): array([ 0.09617595, -0.12511825]),\n",
      " ((1, 0), (1, 1)): array([-0.07957304,  0.09762336]),\n",
      " ((1, 0), (2, 0)): array([-0.09617595,  0.12511825]),\n",
      " ((1, 1), (1, 2)): array([ 0.07957304, -0.09762336]),\n",
      " ((1, 1), (2, 1)): array([ 0.07957304, -0.09762336]),\n",
      " ((1, 2), (2, 2)): array([-0.09617595,  0.12511825]),\n",
      " ((2, 0), (2, 1)): array([ 0.09617595, -0.12511825]),\n",
      " ((2, 1), (2, 2)): array([-0.09617595,  0.12511825])}\n"
     ]
    }
   ],
   "source": [
    "ising.check_msg()"
   ]
  },
  {
   "cell_type": "code",
   "execution_count": 13,
   "metadata": {},
   "outputs": [
    {
     "data": {
      "text/plain": [
       "{((0, 0), (1, 0)): array([-0.52353323, -0.89752706]),\n",
       " ((0, 1), (1, 1)): array([-0.63683927, -0.75281585]),\n",
       " ((0, 2), (1, 2)): array([-0.52353323, -0.89752706]),\n",
       " ((1, 0), (2, 0)): array([-0.61970919, -0.77240881]),\n",
       " ((1, 1), (2, 1)): array([-0.55726624, -0.85043921]),\n",
       " ((1, 2), (2, 2)): array([-0.61970919, -0.77240881]),\n",
       " ((0, 0), (0, 1)): array([-0.52353323, -0.89752706]),\n",
       " ((0, 1), (0, 2)): array([-0.61970919, -0.77240881]),\n",
       " ((1, 0), (1, 1)): array([-0.63683927, -0.75281585]),\n",
       " ((1, 1), (1, 2)): array([-0.55726624, -0.85043921]),\n",
       " ((2, 0), (2, 1)): array([-0.52353323, -0.89752706]),\n",
       " ((2, 1), (2, 2)): array([-0.61970919, -0.77240881]),\n",
       " ((1, 0), (0, 0)): array([-0.61970919, -0.77240881]),\n",
       " ((1, 1), (0, 1)): array([-0.55726624, -0.85043921]),\n",
       " ((1, 2), (0, 2)): array([-0.61970919, -0.77240881]),\n",
       " ((2, 0), (1, 0)): array([-0.52353323, -0.89752706]),\n",
       " ((2, 1), (1, 1)): array([-0.63683927, -0.75281585]),\n",
       " ((2, 2), (1, 2)): array([-0.52353323, -0.89752706]),\n",
       " ((0, 1), (0, 0)): array([-0.61970919, -0.77240881]),\n",
       " ((0, 2), (0, 1)): array([-0.52353323, -0.89752706]),\n",
       " ((1, 1), (1, 0)): array([-0.55726624, -0.85043921]),\n",
       " ((1, 2), (1, 1)): array([-0.63683927, -0.75281585]),\n",
       " ((2, 1), (2, 0)): array([-0.61970919, -0.77240881]),\n",
       " ((2, 2), (2, 1)): array([-0.52353323, -0.89752706])}"
      ]
     },
     "execution_count": 13,
     "metadata": {},
     "output_type": "execute_result"
    }
   ],
   "source": [
    "ising.alpha"
   ]
  },
  {
   "cell_type": "code",
   "execution_count": 1073,
   "metadata": {},
   "outputs": [
    {
     "data": {
      "text/plain": [
       "-0.6931471805599453"
      ]
     },
     "execution_count": 1073,
     "metadata": {},
     "output_type": "execute_result"
    }
   ],
   "source": [
    "-np.log(2)"
   ]
  }
 ],
 "metadata": {
  "kernelspec": {
   "display_name": "Python 3",
   "language": "python",
   "name": "python3"
  },
  "language_info": {
   "codemirror_mode": {
    "name": "ipython",
    "version": 3
   },
   "file_extension": ".py",
   "mimetype": "text/x-python",
   "name": "python",
   "nbconvert_exporter": "python",
   "pygments_lexer": "ipython3",
   "version": "3.7.4"
  }
 },
 "nbformat": 4,
 "nbformat_minor": 2
}
